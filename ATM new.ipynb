{
 "cells": [
  {
   "cell_type": "code",
   "execution_count": null,
   "metadata": {},
   "outputs": [],
   "source": [
    "pin=1234\n",
    "balance=20000\n",
    "print(\"Welcome To SBI Bank \")\n",
    "validation()"
   ]
  },
  {
   "cell_type": "code",
   "execution_count": null,
   "metadata": {},
   "outputs": [],
   "source": [
    "def validation():\n",
    "    upin=int(input(\"Enter your pin : \")) \n",
    "    if(upin==pin):\n",
    "        menu(balance)\n",
    "    else:\n",
    "        a=1\n",
    "        while(a<3):\n",
    "            a=a+1\n",
    "            upin=int(input(\"Re-enter pin : \"))\n",
    "            if(upin==pin):\n",
    "                menu(balance)\n",
    "        else:\n",
    "            print(\"card blocked\")\n",
    "                "
   ]
  },
  {
   "cell_type": "code",
   "execution_count": null,
   "metadata": {},
   "outputs": [],
   "source": [
    "def menu(balance):\n",
    "    print(\"enter 1 for balance\")\n",
    "    print(\"enter 2 for withdraw\")\n",
    "    print(\"enter 3 for deposit\")\n",
    "    print(\"enter 4 for pin change\")\n",
    "    print(\"enter 0 to EXIT\")\n",
    "    opt=int(input())\n",
    "    \n",
    "    while(opt!=0):\n",
    "        \n",
    "        if(opt==1):#check balance\n",
    "            print(\"Your current balance is \",balance)\n",
    "            opt=int(input(\"next option\"))\n",
    "            \n",
    "        elif(opt==2):#withdraw\n",
    "            amt=int(input(\"Enter amount to withdraw : \"))\n",
    "            balance=balance-amt\n",
    "            print(\"balance:Rs.\",balance)\n",
    "            opt=int(input(\"next option\"))\n",
    "            \n",
    "        elif(opt==3):#deposit\n",
    "            amt=int(input(\"Enter amount to deposit : \"))\n",
    "            balance=balance+amt\n",
    "            print(\"balance:Rs.\",balance)\n",
    "            opt=int(input(\"next option\"))\n",
    "            \n",
    "        elif(opt==4): \n",
    "            pinchange(pin)\n",
    "            opt=int(input(\"next option\"))\n",
    "            \n",
    "        elif(opt==0):\n",
    "            print(\"---------------------------\")\n",
    "            print(\"Thank You for Trasaction\")\n",
    "            print(\"---------------------------\")\n",
    "\n",
    "        else:\n",
    "            print(\"invalid option\")\n",
    "            break"
   ]
  },
  {
   "cell_type": "code",
   "execution_count": null,
   "metadata": {},
   "outputs": [],
   "source": [
    "def pinchange(pin):\n",
    "    print(\"Enter old pin : \")\n",
    "    pin=int(input())\n",
    "    if(pin==pin):\n",
    "        print(\"Enter new pin : \")\n",
    "        pin=int(input())\n",
    "        print(\"new pin generated\")\n",
    "    else:\n",
    "        print(\"pin not matched\")"
   ]
  },
  {
   "cell_type": "code",
   "execution_count": null,
   "metadata": {},
   "outputs": [],
   "source": []
  },
  {
   "cell_type": "code",
   "execution_count": null,
   "metadata": {},
   "outputs": [],
   "source": []
  }
 ],
 "metadata": {
  "kernelspec": {
   "display_name": "Python 3",
   "language": "python",
   "name": "python3"
  },
  "language_info": {
   "codemirror_mode": {
    "name": "ipython",
    "version": 3
   },
   "file_extension": ".py",
   "mimetype": "text/x-python",
   "name": "python",
   "nbconvert_exporter": "python",
   "pygments_lexer": "ipython3",
   "version": "3.8.3"
  }
 },
 "nbformat": 4,
 "nbformat_minor": 4
}
